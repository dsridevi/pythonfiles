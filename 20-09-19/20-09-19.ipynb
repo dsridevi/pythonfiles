{
 "cells": [
  {
   "cell_type": "code",
   "execution_count": 45,
   "metadata": {},
   "outputs": [
    {
     "name": "stdout",
     "output_type": "stream",
     "text": [
      "71\n",
      "71\n"
     ]
    }
   ],
   "source": [
    "n=(input())\n",
    "d={0:6,1:2,2:5,3:5,4:4,5:5,6:6,7:3,8:7,9:6}\n",
    "c=0\n",
    "for i in n:\n",
    "    c=c+d.get(int(i))\n",
    "if c%2==0:\n",
    "    print(\"1\"*(c//2))\n",
    "else:\n",
    "    t=c//2\n",
    "    print(\"7\"+(\"1\"*(t-1)))"
   ]
  },
  {
   "cell_type": "code",
   "execution_count": 43,
   "metadata": {},
   "outputs": [
    {
     "name": "stdout",
     "output_type": "stream",
     "text": [
      "1234561234\n",
      "illegal number\n"
     ]
    }
   ],
   "source": [
    "n=(input())\n",
    "c=1\n",
    "q=0\n",
    "if(len(n)==10):\n",
    "    for i in n:\n",
    "        q=q+(c*int(i))\n",
    "        c=c+1\n",
    "if(q%11==0):\n",
    "    print(\"legal number\")\n",
    "else:\n",
    "    print(\"illegal number\")\n",
    "    \n",
    "        \n",
    "        \n",
    "        \n",
    "        \n",
    "        "
   ]
  },
  {
   "cell_type": "code",
   "execution_count": null,
   "metadata": {},
   "outputs": [],
   "source": []
  }
 ],
 "metadata": {
  "kernelspec": {
   "display_name": "Python 3",
   "language": "python",
   "name": "python3"
  },
  "language_info": {
   "codemirror_mode": {
    "name": "ipython",
    "version": 3
   },
   "file_extension": ".py",
   "mimetype": "text/x-python",
   "name": "python",
   "nbconvert_exporter": "python",
   "pygments_lexer": "ipython3",
   "version": "3.7.3"
  }
 },
 "nbformat": 4,
 "nbformat_minor": 2
}
