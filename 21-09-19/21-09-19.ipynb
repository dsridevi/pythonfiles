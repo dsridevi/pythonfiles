{
 "cells": [
  {
   "cell_type": "code",
   "execution_count": 11,
   "metadata": {},
   "outputs": [
    {
     "name": "stdout",
     "output_type": "stream",
     "text": [
      "1\n",
      "1 44 5 6 44\n"
     ]
    }
   ],
   "source": [
    "n=int(input())\n",
    "for i in range(n):\n",
    "    p=input()\n",
    "    m=p.split()\n",
    "    if(len(m)==4):\n",
    "        a=int(m[0])\n",
    "        b=int(m[1])\n",
    "        c=int(m[2])\n",
    "        d=int(m[3])\n",
    "        if(a>24 or c>24):\n",
    "            print(\"invalid\")\n",
    "        elif(b>60 or d>60):\n",
    "            print(\"invalid\")\n",
    "        else:\n",
    "            x=abs((c-a)-1)\n",
    "            if(b==d):\n",
    "                x=x+1\n",
    "            y=abs(b-d)\n",
    "            print(x,y)\n",
    "\n",
    "   \n",
    "\n",
    "   \n",
    "   "
   ]
  },
  {
   "cell_type": "markdown",
   "metadata": {},
   "source": []
  },
  {
   "cell_type": "code",
   "execution_count": null,
   "metadata": {},
   "outputs": [],
   "source": []
  }
 ],
 "metadata": {
  "kernelspec": {
   "display_name": "Python 3",
   "language": "python",
   "name": "python3"
  },
  "language_info": {
   "codemirror_mode": {
    "name": "ipython",
    "version": 3
   },
   "file_extension": ".py",
   "mimetype": "text/x-python",
   "name": "python",
   "nbconvert_exporter": "python",
   "pygments_lexer": "ipython3",
   "version": "3.7.3"
  }
 },
 "nbformat": 4,
 "nbformat_minor": 2
}
