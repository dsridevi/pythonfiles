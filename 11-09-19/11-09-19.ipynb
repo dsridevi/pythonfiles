{
 "cells": [
  {
   "cell_type": "markdown",
   "metadata": {},
   "source": [
    "# Reverse of a number"
   ]
  },
  {
   "cell_type": "code",
   "execution_count": 4,
   "metadata": {},
   "outputs": [
    {
     "name": "stdout",
     "output_type": "stream",
     "text": [
      "123\n"
     ]
    },
    {
     "data": {
      "text/plain": [
       "int"
      ]
     },
     "execution_count": 4,
     "metadata": {},
     "output_type": "execute_result"
    }
   ],
   "source": [
    "n=(input())\n",
    "r=n[::-1]\n",
    "r=int(r)\n",
    "type(r)"
   ]
  },
  {
   "cell_type": "code",
   "execution_count": 1,
   "metadata": {},
   "outputs": [
    {
     "name": "stdout",
     "output_type": "stream",
     "text": [
      "13454\n",
      "1\n",
      "3\n",
      "4\n",
      "5\n",
      "4\n"
     ]
    }
   ],
   "source": [
    "n=input()\n",
    "for i in n:\n",
    "    print(i)"
   ]
  },
  {
   "cell_type": "code",
   "execution_count": 27,
   "metadata": {},
   "outputs": [
    {
     "name": "stdout",
     "output_type": "stream",
     "text": [
      "28\n",
      "perfect number)\n"
     ]
    }
   ],
   "source": [
    "n=int(input())\n",
    "a=0\n",
    "for i in range(1,n):\n",
    "    if n%i==0:\n",
    "        a=a+i\n",
    "if(n==a):\n",
    "    print(\"perfect number)\")\n",
    "else:\n",
    "    print(\"not a perfect number\")\n",
    "    \n",
    "        \n",
    "        "
   ]
  },
  {
   "cell_type": "code",
   "execution_count": 16,
   "metadata": {},
   "outputs": [
    {
     "name": "stdout",
     "output_type": "stream",
     "text": [
      "123\n",
      "123 is not a special number\n"
     ]
    }
   ],
   "source": [
    "n=int(input())\n",
    "if n<=99:\n",
    "    r=int(n%10)\n",
    "    s=int(n/10)\n",
    "    p=r+s\n",
    "    q=r*s\n",
    "    l=(p+q)\n",
    "    if n==l:\n",
    "        print(n,\"is a special number\"):\n",
    "        print(n,\"is not a special number\")\n",
    "else:\n",
    "    else\n",
    "    print(n,\"is not a special number\")"
   ]
  },
  {
   "cell_type": "code",
   "execution_count": 31,
   "metadata": {},
   "outputs": [
    {
     "name": "stdout",
     "output_type": "stream",
     "text": [
      "28\n",
      "perfect number\n"
     ]
    }
   ],
   "source": [
    "def perfect(a):\n",
    "    n=0\n",
    "    for i in range(1,a):\n",
    "        if a%i==0:\n",
    "            n=n+i\n",
    "    if(a==n):\n",
    "        print(\"perfect number\")\n",
    "    else:\n",
    "        print(\"not a perfect number\")\n",
    "a=int(input())\n",
    "perfect(a)   "
   ]
  },
  {
   "cell_type": "code",
   "execution_count": 34,
   "metadata": {},
   "outputs": [
    {
     "name": "stdout",
     "output_type": "stream",
     "text": [
      "32\n",
      "32 is not a special number\n"
     ]
    }
   ],
   "source": [
    "def special(n):\n",
    "    if n<=99:\n",
    "        r=int(n%10)\n",
    "        s=int(n/10)\n",
    "        p=r+s\n",
    "        q=r*s\n",
    "        l=(p+q)\n",
    "        if n==l:\n",
    "            print(n,\"is a special number\")\n",
    "        else:\n",
    "            print(n,\"is not a special number\")\n",
    "    else:\n",
    "        print(n,\"is not a special number\")\n",
    "n=int(input())\n",
    "special(n)"
   ]
  },
  {
   "cell_type": "code",
   "execution_count": 4,
   "metadata": {},
   "outputs": [
    {
     "name": "stdout",
     "output_type": "stream",
     "text": [
      "10\n",
      "30\n",
      "28\n"
     ]
    }
   ],
   "source": [
    "l=int(input())\n",
    "u=int(input())\n",
    "f=0\n",
    "def findfactor(l,f):\n",
    "    for i in range(1,l):\n",
    "         if l%i==0:\n",
    "            f=f+i\n",
    "    if f==l:\n",
    "        print(l)\n",
    "for k in range(l,u+1):\n",
    "    findfactor(k,f)   "
   ]
  },
  {
   "cell_type": "code",
   "execution_count": 16,
   "metadata": {},
   "outputs": [
    {
     "name": "stdout",
     "output_type": "stream",
     "text": [
      "1\n",
      "30\n",
      "2 is a prime number\n",
      "3 is a prime number\n",
      "5 is a prime number\n",
      "7 is a prime number\n",
      "11 is a prime number\n",
      "13 is a prime number\n",
      "17 is a prime number\n",
      "19 is a prime number\n",
      "23 is a prime number\n",
      "29 is a prime number\n"
     ]
    }
   ],
   "source": [
    "l=int(input())\n",
    "u=int(input())\n",
    "f=0\n",
    "def findfactor(l,f):\n",
    "    for i in range(1,l+1):\n",
    "         if l%i==0:\n",
    "            f=f+1\n",
    "    if f==2:\n",
    "        print(l,\"is a prime number\")\n",
    "for k in range(l,u+1):\n",
    "    findfactor(k,f)   "
   ]
  },
  {
   "cell_type": "code",
   "execution_count": null,
   "metadata": {},
   "outputs": [],
   "source": []
  }
 ],
 "metadata": {
  "kernelspec": {
   "display_name": "Python 3",
   "language": "python",
   "name": "python3"
  },
  "language_info": {
   "codemirror_mode": {
    "name": "ipython",
    "version": 3
   },
   "file_extension": ".py",
   "mimetype": "text/x-python",
   "name": "python",
   "nbconvert_exporter": "python",
   "pygments_lexer": "ipython3",
   "version": "3.7.3"
  }
 },
 "nbformat": 4,
 "nbformat_minor": 2
}
