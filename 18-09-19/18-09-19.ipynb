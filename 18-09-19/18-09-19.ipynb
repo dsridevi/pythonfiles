{
 "cells": [
  {
   "cell_type": "code",
   "execution_count": 34,
   "metadata": {},
   "outputs": [
    {
     "name": "stdout",
     "output_type": "stream",
     "text": [
      "123\n"
     ]
    },
    {
     "ename": "TypeError",
     "evalue": "unhashable type: 'dict_keys'",
     "output_type": "error",
     "traceback": [
      "\u001b[1;31m---------------------------------------------------------------------------\u001b[0m",
      "\u001b[1;31mTypeError\u001b[0m                                 Traceback (most recent call last)",
      "\u001b[1;32m<ipython-input-34-ad7fb1d9699e>\u001b[0m in \u001b[0;36m<module>\u001b[1;34m\u001b[0m\n\u001b[0;32m      4\u001b[0m \u001b[1;32mfor\u001b[0m \u001b[0mi\u001b[0m \u001b[1;32min\u001b[0m \u001b[0mn\u001b[0m\u001b[1;33m:\u001b[0m\u001b[1;33m\u001b[0m\u001b[1;33m\u001b[0m\u001b[0m\n\u001b[0;32m      5\u001b[0m     \u001b[0mi\u001b[0m\u001b[1;33m=\u001b[0m\u001b[0ml\u001b[0m\u001b[1;33m\u001b[0m\u001b[1;33m\u001b[0m\u001b[0m\n\u001b[1;32m----> 6\u001b[1;33m     \u001b[0md\u001b[0m\u001b[1;33m.\u001b[0m\u001b[0mget\u001b[0m\u001b[1;33m(\u001b[0m\u001b[0mi\u001b[0m\u001b[1;33m)\u001b[0m\u001b[1;33m\u001b[0m\u001b[1;33m\u001b[0m\u001b[0m\n\u001b[0m\u001b[0;32m      7\u001b[0m \u001b[1;33m\u001b[0m\u001b[0m\n\u001b[0;32m      8\u001b[0m \u001b[1;33m\u001b[0m\u001b[0m\n",
      "\u001b[1;31mTypeError\u001b[0m: unhashable type: 'dict_keys'"
     ]
    }
   ],
   "source": [
    "n=(input()) \n",
    "d={0:6,1:2,2:5,3:5,4:4,5:5,6:6,7:3,8:7,9:6}\n",
    "l=d.keys()\n",
    "for i in n:\n",
    "    i=l\n",
    "    d.get(i)\n",
    "\n",
    "    \n"
   ]
  },
  {
   "cell_type": "code",
   "execution_count": 3,
   "metadata": {},
   "outputs": [
    {
     "data": {
      "text/plain": [
       "5"
      ]
     },
     "execution_count": 3,
     "metadata": {},
     "output_type": "execute_result"
    }
   ],
   "source": [
    "d={0:6,1:2,2:5,3:5,4:4,5:5,6:6,7:3,8:7,9:6}\n",
    "d.get(5)    "
   ]
  },
  {
   "cell_type": "code",
   "execution_count": 15,
   "metadata": {},
   "outputs": [
    {
     "name": "stdout",
     "output_type": "stream",
     "text": [
      "123\n",
      "1\n",
      "2\n",
      "3\n"
     ]
    }
   ],
   "source": [
    "n=input()\n",
    "for i in n:\n",
    "    print(int(i))"
   ]
  },
  {
   "cell_type": "code",
   "execution_count": 23,
   "metadata": {},
   "outputs": [
    {
     "name": "stdout",
     "output_type": "stream",
     "text": [
      "12345\n",
      "21\n"
     ]
    }
   ],
   "source": [
    "n=(input())\n",
    "d={0:6,1:2,2:5,3:5,4:4,5:5,6:6,7:3,8:7,9:6}\n",
    "c=0\n",
    "for i in n:\n",
    "    c=c+d.get(int(i))\n",
    "print(c)\n"
   ]
  },
  {
   "cell_type": "code",
   "execution_count": 11,
   "metadata": {},
   "outputs": [
    {
     "name": "stdout",
     "output_type": "stream",
     "text": [
      "lldurludr\n",
      "-1 , 0\n"
     ]
    }
   ],
   "source": [
    "n=input()\n",
    "d={\"l\":-1,\"r\":1,\"d\":-1,\"u\":1}\n",
    "c=0\n",
    "l=0\n",
    "for i in n:\n",
    "    d.get(i)\n",
    "    if(i==\"l\" or i==\"r\"):\n",
    "        c=c+d.get(i)\n",
    "    else:\n",
    "        l=l+d.get(i)\n",
    "print(c,\",\",l)\n",
    "        \n",
    "\n"
   ]
  },
  {
   "cell_type": "code",
   "execution_count": 95,
   "metadata": {},
   "outputs": [],
   "source": [
    "filepath=\"./files/sample.txt\"\n",
    "with open(filepath,'w') as f :\n",
    "    f.write(\"this is my first line\\n\")\n",
    "    f.write(\"this is my second line\\n\")   "
   ]
  },
  {
   "cell_type": "code",
   "execution_count": 96,
   "metadata": {},
   "outputs": [],
   "source": [
    "filepath=\"./files/sample.txt\"\n",
    "with open(filepath,'a') as f :\n",
    "    f.write(\"this is my third line\")"
   ]
  },
  {
   "cell_type": "code",
   "execution_count": 119,
   "metadata": {},
   "outputs": [
    {
     "name": "stdout",
     "output_type": "stream",
     "text": [
      "this is my first line\n",
      "this is my second line\n",
      "this is my third line\n"
     ]
    }
   ],
   "source": [
    "filepath=\"./files/sample.txt\"\n",
    "with open(filepath,'r') as f:\n",
    "    data=(f.read())\n",
    "    print(data)"
   ]
  },
  {
   "cell_type": "code",
   "execution_count": 120,
   "metadata": {},
   "outputs": [
    {
     "name": "stdout",
     "output_type": "stream",
     "text": [
      "this is my second line\n",
      "\n"
     ]
    }
   ],
   "source": [
    "filepath=\"./files/sample.txt\"\n",
    "with open(filepath,'r') as f:\n",
    "    data=(f.readlines())\n",
    "    l=list(data)\n",
    "    print(l[1])"
   ]
  },
  {
   "cell_type": "code",
   "execution_count": 121,
   "metadata": {},
   "outputs": [
    {
     "name": "stdout",
     "output_type": "stream",
     "text": [
      "['sri', 'anu', 'uma']\n"
     ]
    }
   ],
   "source": [
    "l=[\"sri\",\"anu\",\"uma\",\"uma\",\"anu\"]\n",
    "t=[]\n",
    "for i in l:\n",
    "    if i not in t:\n",
    "        t.append(i)\n",
    "print(t)        "
   ]
  },
  {
   "cell_type": "code",
   "execution_count": 2,
   "metadata": {},
   "outputs": [
    {
     "name": "stdout",
     "output_type": "stream",
     "text": [
      "1\n",
      "10\n",
      "2\n",
      "5\n"
     ]
    }
   ],
   "source": [
    "n=(input(),input(),input())\n",
    "l=[]\n",
    "for i in n:\n",
    "    l.append(i)\n",
    "l[0]=int(l[0])\n",
    "l[1]=int(l[1])\n",
    "l[2]=int(l[2])\n",
    "c=0\n",
    "for i in range(l[0],l[1]+1):\n",
    "    if((i%l[2])==0):\n",
    "        c=c+1\n",
    "print(c)        \n",
    "    \n",
    "    \n",
    "    \n",
    "    "
   ]
  },
  {
   "cell_type": "code",
   "execution_count": 42,
   "metadata": {},
   "outputs": [
    {
     "name": "stdout",
     "output_type": "stream",
     "text": [
      "1 10 2\n",
      "5\n"
     ]
    }
   ],
   "source": [
    "n=input()\n",
    "m=n.split()\n",
    "l=int(m[0])\n",
    "r=int(m[1])\n",
    "k=int(m[2])\n",
    "c=0\n",
    "for i in range(l,r+1):\n",
    "    if (i%k)==0:\n",
    "        c=c+1\n",
    "print(c)        "
   ]
  },
  {
   "cell_type": "code",
   "execution_count": 40,
   "metadata": {},
   "outputs": [
    {
     "name": "stdout",
     "output_type": "stream",
     "text": [
      "this is my first line\n",
      "this is my second line\n",
      "this is my third line\n",
      "words = 15\n",
      "letters = 66\n",
      "lines = 3\n"
     ]
    }
   ],
   "source": [
    "filepath=\"./files/sample.txt\"\n",
    "with open(filepath,'r') as f:\n",
    "    data=(f.read())\n",
    "    print(data)\n",
    "m=data.split()\n",
    "words=0\n",
    "for i in m:\n",
    "    words=words+1\n",
    "print(\"words =\",words)\n",
    "print(\"letters =\",len(data))\n",
    "filepath=\"./files/sample.txt\"\n",
    "with open(filepath,'r') as f:\n",
    "    data=(f.readlines())\n",
    "    l=list(data)\n",
    "    print(\"lines =\",len(l))\n",
    "    \n",
    "    "
   ]
  },
  {
   "cell_type": "code",
   "execution_count": 27,
   "metadata": {},
   "outputs": [
    {
     "name": "stdout",
     "output_type": "stream",
     "text": [
      "lines = 3\n"
     ]
    }
   ],
   "source": [
    "filepath=\"./files/sample.txt\"\n",
    "with open(filepath,'r') as f:\n",
    "    data=(f.readlines())\n",
    "    l=list(data)\n",
    "    print(\"lines =\",len(l))"
   ]
  },
  {
   "cell_type": "code",
   "execution_count": 41,
   "metadata": {},
   "outputs": [
    {
     "name": "stdout",
     "output_type": "stream",
     "text": [
      "this is my first line\n",
      "this is my second line\n",
      "this is my third line\n",
      "words = 15\n",
      "letters = 66\n",
      "lines = 0\n"
     ]
    }
   ],
   "source": [
    "filepath=\"./files/sample.txt\"\n",
    "f=open(filepath,'r')\n",
    "data=(f.read())\n",
    "print(data)\n",
    "m=data.split()\n",
    "words=0\n",
    "for i in m:\n",
    "    words=words+1\n",
    "print(\"words =\",words)\n",
    "print(\"letters =\",len(data))\n",
    "data=(f.readlines())\n",
    "l=list(data)\n",
    "print(\"lines =\",len(l))\n",
    "    \n",
    "    "
   ]
  },
  {
   "cell_type": "code",
   "execution_count": null,
   "metadata": {},
   "outputs": [],
   "source": []
  }
 ],
 "metadata": {
  "kernelspec": {
   "display_name": "Python 3",
   "language": "python",
   "name": "python3"
  },
  "language_info": {
   "codemirror_mode": {
    "name": "ipython",
    "version": 3
   },
   "file_extension": ".py",
   "mimetype": "text/x-python",
   "name": "python",
   "nbconvert_exporter": "python",
   "pygments_lexer": "ipython3",
   "version": "3.7.3"
  }
 },
 "nbformat": 4,
 "nbformat_minor": 2
}
